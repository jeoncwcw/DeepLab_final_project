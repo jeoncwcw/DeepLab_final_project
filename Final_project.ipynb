{
 "cells": [
  {
   "cell_type": "markdown",
   "id": "933fd0ad",
   "metadata": {},
   "source": [
    "# Final Project\n",
    "Tackling Long-Tail Distribution Problem"
   ]
  },
  {
   "cell_type": "markdown",
   "id": "a683ea2a",
   "metadata": {},
   "source": [
    "## 0. Base Setting"
   ]
  },
  {
   "cell_type": "code",
   "execution_count": 1,
   "id": "b2f91d7a",
   "metadata": {},
   "outputs": [],
   "source": [
    "import torch, torchvision\n",
    "import torch.nn as nn"
   ]
  },
  {
   "cell_type": "markdown",
   "id": "7740ec97",
   "metadata": {},
   "source": [
    "## 1. Dataset Load"
   ]
  },
  {
   "cell_type": "code",
   "execution_count": 2,
   "id": "0cf7c45e",
   "metadata": {},
   "outputs": [
    {
     "data": {
      "text/plain": [
       "<torch._C.Generator at 0x1ce4ea98fd0>"
      ]
     },
     "execution_count": 2,
     "metadata": {},
     "output_type": "execute_result"
    }
   ],
   "source": [
    "torch.manual_seed(42)"
   ]
  },
  {
   "cell_type": "code",
   "execution_count": 3,
   "id": "78f72f9e",
   "metadata": {},
   "outputs": [
    {
     "name": "stdout",
     "output_type": "stream",
     "text": [
      "Files already downloaded and verified\n"
     ]
    }
   ],
   "source": [
    "from data.dataset import get_dataloader\n",
    "\n",
    "train_loader, test_loader, cls_num_list = get_dataloader(mode = \"unbalanced\")"
   ]
  },
  {
   "cell_type": "code",
   "execution_count": 4,
   "id": "958cf8d3",
   "metadata": {},
   "outputs": [],
   "source": [
    "import torch.nn.functional as F\n",
    "\n",
    "class NormalizedLinear(nn.Module):\n",
    "    def __init__(self, in_features, out_features):\n",
    "        super(NormalizedLinear, self).__init__()\n",
    "        self.weight = nn.Parameter(torch.Tensor(out_features, in_features))\n",
    "        nn.init.xavier_uniform_(self.weight)\n",
    "\n",
    "    def forward(self, x):\n",
    "        x_norm = F.normalize(x, p=2, dim=1)\n",
    "        w_norm = F.normalize(self.weight, p=2, dim=1)\n",
    "        return F.linear(x_norm, w_norm)"
   ]
  },
  {
   "cell_type": "code",
   "execution_count": 5,
   "id": "12ed889e",
   "metadata": {},
   "outputs": [
    {
     "name": "stdout",
     "output_type": "stream",
     "text": [
      "CifarResNet18(\n",
      "  (conv1): Conv2d(3, 64, kernel_size=(3, 3), stride=(1, 1), padding=(1, 1), bias=False)\n",
      "  (bn1): BatchNorm2d(64, eps=1e-05, momentum=0.1, affine=True, track_running_stats=True)\n",
      "  (relu): ReLU(inplace=True)\n",
      "  (backbone): ResNet(\n",
      "    (conv1): Conv2d(3, 64, kernel_size=(3, 3), stride=(1, 1), padding=(1, 1), bias=False)\n",
      "    (bn1): BatchNorm2d(64, eps=1e-05, momentum=0.1, affine=True, track_running_stats=True)\n",
      "    (relu): ReLU(inplace=True)\n",
      "    (maxpool): Identity()\n",
      "    (layer1): Sequential(\n",
      "      (0): BasicBlock(\n",
      "        (conv1): Conv2d(64, 64, kernel_size=(3, 3), stride=(1, 1), padding=(1, 1), bias=False)\n",
      "        (bn1): BatchNorm2d(64, eps=1e-05, momentum=0.1, affine=True, track_running_stats=True)\n",
      "        (relu): ReLU(inplace=True)\n",
      "        (conv2): Conv2d(64, 64, kernel_size=(3, 3), stride=(1, 1), padding=(1, 1), bias=False)\n",
      "        (bn2): BatchNorm2d(64, eps=1e-05, momentum=0.1, affine=True, track_running_stats=True)\n",
      "      )\n",
      "      (1): BasicBlock(\n",
      "        (conv1): Conv2d(64, 64, kernel_size=(3, 3), stride=(1, 1), padding=(1, 1), bias=False)\n",
      "        (bn1): BatchNorm2d(64, eps=1e-05, momentum=0.1, affine=True, track_running_stats=True)\n",
      "        (relu): ReLU(inplace=True)\n",
      "        (conv2): Conv2d(64, 64, kernel_size=(3, 3), stride=(1, 1), padding=(1, 1), bias=False)\n",
      "        (bn2): BatchNorm2d(64, eps=1e-05, momentum=0.1, affine=True, track_running_stats=True)\n",
      "      )\n",
      "    )\n",
      "    (layer2): Sequential(\n",
      "      (0): BasicBlock(\n",
      "        (conv1): Conv2d(64, 128, kernel_size=(3, 3), stride=(2, 2), padding=(1, 1), bias=False)\n",
      "        (bn1): BatchNorm2d(128, eps=1e-05, momentum=0.1, affine=True, track_running_stats=True)\n",
      "        (relu): ReLU(inplace=True)\n",
      "        (conv2): Conv2d(128, 128, kernel_size=(3, 3), stride=(1, 1), padding=(1, 1), bias=False)\n",
      "        (bn2): BatchNorm2d(128, eps=1e-05, momentum=0.1, affine=True, track_running_stats=True)\n",
      "        (downsample): Sequential(\n",
      "          (0): Conv2d(64, 128, kernel_size=(1, 1), stride=(2, 2), bias=False)\n",
      "          (1): BatchNorm2d(128, eps=1e-05, momentum=0.1, affine=True, track_running_stats=True)\n",
      "        )\n",
      "      )\n",
      "      (1): BasicBlock(\n",
      "        (conv1): Conv2d(128, 128, kernel_size=(3, 3), stride=(1, 1), padding=(1, 1), bias=False)\n",
      "        (bn1): BatchNorm2d(128, eps=1e-05, momentum=0.1, affine=True, track_running_stats=True)\n",
      "        (relu): ReLU(inplace=True)\n",
      "        (conv2): Conv2d(128, 128, kernel_size=(3, 3), stride=(1, 1), padding=(1, 1), bias=False)\n",
      "        (bn2): BatchNorm2d(128, eps=1e-05, momentum=0.1, affine=True, track_running_stats=True)\n",
      "      )\n",
      "    )\n",
      "    (layer3): Sequential(\n",
      "      (0): BasicBlock(\n",
      "        (conv1): Conv2d(128, 256, kernel_size=(3, 3), stride=(2, 2), padding=(1, 1), bias=False)\n",
      "        (bn1): BatchNorm2d(256, eps=1e-05, momentum=0.1, affine=True, track_running_stats=True)\n",
      "        (relu): ReLU(inplace=True)\n",
      "        (conv2): Conv2d(256, 256, kernel_size=(3, 3), stride=(1, 1), padding=(1, 1), bias=False)\n",
      "        (bn2): BatchNorm2d(256, eps=1e-05, momentum=0.1, affine=True, track_running_stats=True)\n",
      "        (downsample): Sequential(\n",
      "          (0): Conv2d(128, 256, kernel_size=(1, 1), stride=(2, 2), bias=False)\n",
      "          (1): BatchNorm2d(256, eps=1e-05, momentum=0.1, affine=True, track_running_stats=True)\n",
      "        )\n",
      "      )\n",
      "      (1): BasicBlock(\n",
      "        (conv1): Conv2d(256, 256, kernel_size=(3, 3), stride=(1, 1), padding=(1, 1), bias=False)\n",
      "        (bn1): BatchNorm2d(256, eps=1e-05, momentum=0.1, affine=True, track_running_stats=True)\n",
      "        (relu): ReLU(inplace=True)\n",
      "        (conv2): Conv2d(256, 256, kernel_size=(3, 3), stride=(1, 1), padding=(1, 1), bias=False)\n",
      "        (bn2): BatchNorm2d(256, eps=1e-05, momentum=0.1, affine=True, track_running_stats=True)\n",
      "      )\n",
      "    )\n",
      "    (layer4): Sequential(\n",
      "      (0): BasicBlock(\n",
      "        (conv1): Conv2d(256, 512, kernel_size=(3, 3), stride=(2, 2), padding=(1, 1), bias=False)\n",
      "        (bn1): BatchNorm2d(512, eps=1e-05, momentum=0.1, affine=True, track_running_stats=True)\n",
      "        (relu): ReLU(inplace=True)\n",
      "        (conv2): Conv2d(512, 512, kernel_size=(3, 3), stride=(1, 1), padding=(1, 1), bias=False)\n",
      "        (bn2): BatchNorm2d(512, eps=1e-05, momentum=0.1, affine=True, track_running_stats=True)\n",
      "        (downsample): Sequential(\n",
      "          (0): Conv2d(256, 512, kernel_size=(1, 1), stride=(2, 2), bias=False)\n",
      "          (1): BatchNorm2d(512, eps=1e-05, momentum=0.1, affine=True, track_running_stats=True)\n",
      "        )\n",
      "      )\n",
      "      (1): BasicBlock(\n",
      "        (conv1): Conv2d(512, 512, kernel_size=(3, 3), stride=(1, 1), padding=(1, 1), bias=False)\n",
      "        (bn1): BatchNorm2d(512, eps=1e-05, momentum=0.1, affine=True, track_running_stats=True)\n",
      "        (relu): ReLU(inplace=True)\n",
      "        (conv2): Conv2d(512, 512, kernel_size=(3, 3), stride=(1, 1), padding=(1, 1), bias=False)\n",
      "        (bn2): BatchNorm2d(512, eps=1e-05, momentum=0.1, affine=True, track_running_stats=True)\n",
      "      )\n",
      "    )\n",
      "    (avgpool): AdaptiveAvgPool2d(output_size=(1, 1))\n",
      "    (fc): NormalizedLinear()\n",
      "  )\n",
      ")\n",
      "Total parameters: 11220032\n"
     ]
    },
    {
     "name": "stderr",
     "output_type": "stream",
     "text": [
      "d:\\code\\DeepLearningLab\\project\\.venv\\Lib\\site-packages\\torchvision\\models\\_utils.py:208: UserWarning: The parameter 'pretrained' is deprecated since 0.13 and may be removed in the future, please use 'weights' instead.\n",
      "  warnings.warn(\n",
      "d:\\code\\DeepLearningLab\\project\\.venv\\Lib\\site-packages\\torchvision\\models\\_utils.py:223: UserWarning: Arguments other than a weight enum or `None` for 'weights' are deprecated since 0.13 and may be removed in the future. The current behavior is equivalent to passing `weights=None`.\n",
      "  warnings.warn(msg)\n"
     ]
    }
   ],
   "source": [
    "class CifarResNet18(nn.Module):\n",
    "    def __init__(self, num_classes=100, use_norm=False):\n",
    "        super(CifarResNet18, self).__init__()\n",
    "        self.conv1 = nn.Conv2d(3, 64, kernel_size=3, stride=1, padding=1, bias=False)\n",
    "        self.bn1 = nn.BatchNorm2d(64)\n",
    "        self.relu = nn.ReLU(inplace=True)\n",
    "        \n",
    "        from torchvision.models import resnet18\n",
    "        self.backbone = resnet18(pretrained=False, num_classes=num_classes)\n",
    "        self.backbone.conv1 = self.conv1\n",
    "        self.backbone.bn1 = self.bn1\n",
    "        self.backbone.relu = self.relu\n",
    "        self.backbone.maxpool = nn.Identity()  # Remove maxpool layer\n",
    "        \n",
    "        in_features = self.backbone.fc.in_features\n",
    "        if use_norm:\n",
    "            self.backbone.fc = NormalizedLinear(in_features, num_classes)\n",
    "        else:\n",
    "            self.backbone.fc = nn.Linear(in_features, num_classes)\n",
    "        \n",
    "    def forward(self, x):\n",
    "        x = self.backbone(x)\n",
    "        return x\n",
    "    \n",
    "model = CifarResNet18(use_norm = True)\n",
    "print(model)\n",
    "total_params = sum(p.numel() for p in model.parameters())\n",
    "print(f\"Total parameters: {total_params}\")"
   ]
  },
  {
   "cell_type": "code",
   "execution_count": 6,
   "id": "82cae21a",
   "metadata": {},
   "outputs": [],
   "source": [
    "import math\n",
    "\n",
    "warmup_epochs = 5\n",
    "epochs = 90\n",
    "\n",
    "# LDAM 용 cosine annealing 함수 제작\n",
    "def cosine_annealing(epoch):\n",
    "    if epoch < warmup_epochs:\n",
    "        return float(epoch+1) / float(warmup_epochs)\n",
    "    else:\n",
    "        progress = float(epoch - warmup_epochs) / float(max(1, epochs - warmup_epochs))\n",
    "        scale = 0.5 * (1.0 + math.cos(math.pi * progress))\n",
    "        return scale"
   ]
  },
  {
   "cell_type": "code",
   "execution_count": null,
   "id": "a7e37f43",
   "metadata": {},
   "outputs": [],
   "source": [
    "from torch.optim.lr_scheduler import LambdaLR\n",
    "from losses.loss import myLoss\n",
    "\n",
    "learning_rate = 0.1\n",
    "momentum = 0.9\n",
    "weight_decay = 5e-4\n",
    "\n",
    "optimizer = torch.optim.SGD(model.parameters(), lr = learning_rate, momentum = momentum, weight_decay=weight_decay)\n",
    "criterion = myLoss(mode=\"LDAM\", cls_num_list=cls_num_list)\n",
    "scheduler = LambdaLR(optimizer, lr_lambda=cosine_annealing)\n",
    "# scheduler = LambdaLR(optimizer, lr_lambda=lambda epoch: 1 - (epoch/epochs))"
   ]
  },
  {
   "cell_type": "code",
   "execution_count": 8,
   "id": "04ad1e13",
   "metadata": {},
   "outputs": [
    {
     "name": "stdout",
     "output_type": "stream",
     "text": [
      "cuda:0\n"
     ]
    }
   ],
   "source": [
    "device = torch.device(\"cuda:0\" if torch.cuda.is_available() else \"cpu\")\n",
    "model = model.to(device)\n",
    "\n",
    "print(device)"
   ]
  },
  {
   "cell_type": "code",
   "execution_count": 9,
   "id": "f4bc8e07",
   "metadata": {},
   "outputs": [],
   "source": [
    "def test_loss_cal(model, test_loader, criterion, device):\n",
    "    model.eval()\n",
    "    test_loss = 0.0\n",
    "    count = 0\n",
    "    with torch.no_grad():\n",
    "        for images, labels in test_loader:\n",
    "            images = images.to(device)\n",
    "            labels = labels.to(device)\n",
    "            outputs = model(images)\n",
    "            loss = criterion(outputs, labels)\n",
    "            test_loss += loss.item()\n",
    "            count += 1\n",
    "    test_loss = test_loss / count\n",
    "    model.train()\n",
    "    return test_loss"
   ]
  },
  {
   "cell_type": "code",
   "execution_count": 10,
   "id": "51a5a077",
   "metadata": {},
   "outputs": [
    {
     "name": "stdout",
     "output_type": "stream",
     "text": [
      "[epoch 1] train_loss: 14.1895, test_loss: 14.8084\n",
      "[Best Model Saved!]\n",
      "[epoch 2] train_loss: 13.6438, test_loss: 14.4235\n",
      "[Best Model Saved!]\n",
      "[epoch 3] train_loss: 13.3627, test_loss: 14.0629\n",
      "[Best Model Saved!]\n",
      "[epoch 4] train_loss: 13.0794, test_loss: 13.7298\n",
      "[Best Model Saved!]\n",
      "[epoch 5] train_loss: 12.8277, test_loss: 13.6344\n",
      "[Best Model Saved!]\n",
      "[epoch 6] train_loss: 12.5640, test_loss: 13.2464\n",
      "[Best Model Saved!]\n",
      "[epoch 7] train_loss: 12.2878, test_loss: 13.1104\n",
      "[Best Model Saved!]\n",
      "[epoch 8] train_loss: 12.0891, test_loss: 12.9207\n",
      "[Best Model Saved!]\n",
      "[epoch 9] train_loss: 11.8664, test_loss: 12.8953\n",
      "[Best Model Saved!]\n",
      "[epoch 10] train_loss: 11.6705, test_loss: 12.4714\n",
      "[Best Model Saved!]\n",
      "[epoch 11] train_loss: 11.4598, test_loss: 12.3811\n",
      "[Best Model Saved!]\n",
      "[epoch 12] train_loss: 11.2744, test_loss: 12.5120\n",
      "[epoch 13] train_loss: 11.1041, test_loss: 12.1200\n",
      "[Best Model Saved!]\n",
      "[epoch 14] train_loss: 10.9334, test_loss: 12.1347\n",
      "[epoch 15] train_loss: 10.7833, test_loss: 11.6912\n",
      "[Best Model Saved!]\n",
      "[epoch 16] train_loss: 10.5643, test_loss: 11.6763\n",
      "[Best Model Saved!]\n",
      "[epoch 17] train_loss: 10.5233, test_loss: 12.2782\n",
      "[epoch 18] train_loss: 10.3583, test_loss: 11.8562\n",
      "[epoch 19] train_loss: 10.2693, test_loss: 11.8531\n",
      "[epoch 20] train_loss: 10.0979, test_loss: 11.5499\n",
      "[Best Model Saved!]\n",
      "[epoch 21] train_loss: 10.0239, test_loss: 11.2810\n",
      "[Best Model Saved!]\n",
      "[epoch 22] train_loss: 9.9071, test_loss: 11.5382\n",
      "[epoch 23] train_loss: 9.7729, test_loss: 10.9373\n",
      "[Best Model Saved!]\n",
      "[epoch 24] train_loss: 9.6519, test_loss: 11.5305\n",
      "[epoch 25] train_loss: 9.6863, test_loss: 11.0210\n",
      "[epoch 26] train_loss: 9.5454, test_loss: 10.7520\n",
      "[Best Model Saved!]\n",
      "[epoch 27] train_loss: 9.4629, test_loss: 10.8970\n",
      "[epoch 28] train_loss: 9.3246, test_loss: 11.1613\n",
      "[epoch 29] train_loss: 9.2578, test_loss: 11.3476\n",
      "[epoch 30] train_loss: 9.2605, test_loss: 11.1371\n",
      "[epoch 31] train_loss: 9.1715, test_loss: 10.8266\n",
      "[epoch 32] train_loss: 9.0739, test_loss: 10.6107\n",
      "[Best Model Saved!]\n",
      "[epoch 33] train_loss: 9.0771, test_loss: 10.7432\n",
      "[epoch 34] train_loss: 8.9296, test_loss: 11.2691\n",
      "[epoch 35] train_loss: 8.8957, test_loss: 10.7677\n",
      "[epoch 36] train_loss: 8.8908, test_loss: 10.5456\n",
      "[Best Model Saved!]\n",
      "[epoch 37] train_loss: 8.7968, test_loss: 11.1850\n",
      "[epoch 38] train_loss: 8.7811, test_loss: 10.9042\n",
      "[epoch 39] train_loss: 8.6798, test_loss: 10.6684\n",
      "[epoch 40] train_loss: 8.6295, test_loss: 10.8569\n",
      "[epoch 41] train_loss: 8.6221, test_loss: 10.5500\n",
      "[epoch 42] train_loss: 8.5682, test_loss: 11.4612\n",
      "[epoch 43] train_loss: 8.4644, test_loss: 10.2809\n",
      "[Best Model Saved!]\n",
      "[epoch 44] train_loss: 8.4524, test_loss: 10.8092\n",
      "[epoch 45] train_loss: 8.4212, test_loss: 10.8580\n",
      "[epoch 46] train_loss: 8.4535, test_loss: 10.7427\n",
      "[epoch 47] train_loss: 8.3877, test_loss: 10.5329\n",
      "[epoch 48] train_loss: 8.2977, test_loss: 10.6869\n",
      "[epoch 49] train_loss: 8.2764, test_loss: 10.2136\n",
      "[Best Model Saved!]\n",
      "[epoch 50] train_loss: 8.2745, test_loss: 10.4360\n",
      "[epoch 51] train_loss: 8.2095, test_loss: 10.5671\n",
      "[epoch 52] train_loss: 8.2058, test_loss: 10.4999\n",
      "[epoch 53] train_loss: 8.1536, test_loss: 10.2181\n",
      "[epoch 54] train_loss: 8.0881, test_loss: 10.4683\n",
      "[epoch 55] train_loss: 8.1115, test_loss: 10.4191\n",
      "[epoch 56] train_loss: 8.0517, test_loss: 10.6437\n",
      "[epoch 57] train_loss: 8.1012, test_loss: 10.5007\n",
      "[epoch 58] train_loss: 8.0292, test_loss: 10.3331\n",
      "[epoch 59] train_loss: 7.9478, test_loss: 10.0831\n",
      "[Best Model Saved!]\n",
      "[epoch 60] train_loss: 7.9249, test_loss: 10.3427\n",
      "[epoch 61] train_loss: 7.8778, test_loss: 9.9506\n",
      "[Best Model Saved!]\n",
      "[epoch 62] train_loss: 7.9482, test_loss: 10.4272\n",
      "[epoch 63] train_loss: 7.9096, test_loss: 10.0738\n",
      "[epoch 64] train_loss: 7.8688, test_loss: 10.8750\n",
      "[epoch 65] train_loss: 7.7910, test_loss: 9.9787\n",
      "[epoch 66] train_loss: 7.8231, test_loss: 10.1084\n",
      "[epoch 67] train_loss: 7.7880, test_loss: 10.1085\n",
      "[epoch 68] train_loss: 7.7592, test_loss: 10.0005\n",
      "[epoch 69] train_loss: 7.6818, test_loss: 10.3390\n",
      "[epoch 70] train_loss: 7.7395, test_loss: 10.2469\n",
      "[epoch 71] train_loss: 7.6930, test_loss: 10.0991\n",
      "[epoch 72] train_loss: 7.7043, test_loss: 9.8339\n",
      "[Best Model Saved!]\n",
      "[epoch 73] train_loss: 7.6318, test_loss: 10.5408\n",
      "[epoch 74] train_loss: 7.6774, test_loss: 10.1924\n",
      "[epoch 75] train_loss: 7.5707, test_loss: 10.3186\n",
      "[epoch 76] train_loss: 7.5769, test_loss: 10.1644\n",
      "[epoch 77] train_loss: 7.5894, test_loss: 10.3751\n",
      "[epoch 78] train_loss: 7.5535, test_loss: 9.9623\n",
      "[epoch 79] train_loss: 7.5437, test_loss: 10.3120\n",
      "[epoch 80] train_loss: 7.5436, test_loss: 10.0644\n",
      "[epoch 81] train_loss: 7.4461, test_loss: 10.1562\n",
      "[epoch 82] train_loss: 7.4872, test_loss: 10.2945\n",
      "[epoch 83] train_loss: 7.5365, test_loss: 10.2307\n",
      "[epoch 84] train_loss: 7.4674, test_loss: 10.0806\n",
      "[epoch 85] train_loss: 7.4388, test_loss: 10.2420\n",
      "[epoch 86] train_loss: 7.4597, test_loss: 10.1471\n",
      "[epoch 87] train_loss: 7.4620, test_loss: 10.1785\n",
      "[epoch 88] train_loss: 7.4149, test_loss: 10.0870\n",
      "[epoch 89] train_loss: 7.3852, test_loss: 10.8593\n",
      "[epoch 90] train_loss: 7.4323, test_loss: 10.0129\n"
     ]
    }
   ],
   "source": [
    "import os\n",
    "os.makedirs('./models', exist_ok=True)\n",
    "\n",
    "train_losses = list()\n",
    "test_losses = list()\n",
    "\n",
    "model_save_path = \"./models/LDAM_unbalanced.pth\"\n",
    "best_loss = float('inf')\n",
    "\n",
    "model.train()\n",
    "interval = max(1, len(train_loader) // 5)\n",
    "for epoch in range(epochs):\n",
    "    total_loss = 0.0\n",
    "    for image, label in train_loader:\n",
    "        image = image.to(device)\n",
    "        label = label.to(device)\n",
    "        \n",
    "        optimizer.zero_grad()\n",
    "        output = model(image)\n",
    "        loss = criterion(output, label)\n",
    "        loss.backward()\n",
    "        optimizer.step()\n",
    "        \n",
    "        total_loss += loss.item()\n",
    "    test_loss = test_loss_cal(model, test_loader, criterion, device)\n",
    "    print(f\"[epoch {epoch+1}] train_loss: {total_loss/len(train_loader):.4f}, test_loss: {test_loss:.4f}\")\n",
    "    train_losses.append(total_loss/len(train_loader))\n",
    "    test_losses.append(test_loss)\n",
    "    if test_loss < best_loss:\n",
    "        best_loss = test_loss\n",
    "        torch.save(model.state_dict(), model_save_path)\n",
    "        print(\"[Best Model Saved!]\")"
   ]
  },
  {
   "cell_type": "code",
   "execution_count": 11,
   "id": "3bdadea5",
   "metadata": {},
   "outputs": [
    {
     "data": {
      "image/png": "[encoded data removed]",
      "text/plain": [
       "<Figure size 640x480 with 1 Axes>"
      ]
     },
     "metadata": {},
     "output_type": "display_data"
    }
   ],
   "source": [
    "import matplotlib.pyplot as plt\n",
    "\n",
    "X = [i+1 for i in range(len(train_losses))]\n",
    "\n",
    "plt.plot(X, train_losses, color=\"blue\", label = \"train_losses\")\n",
    "plt.plot(X, test_losses, color=\"orange\", label = \"test_losses\")\n",
    "\n",
    "plt.xlabel(\"Epochs\")\n",
    "plt.ylabel(\"Losses\")\n",
    "plt.legend(loc=\"upper left\")\n",
    "plt.title(\"Train/Test Losses\")\n",
    "\n",
    "plt.show()"
   ]
  },
  {
   "cell_type": "code",
   "execution_count": 12,
   "id": "6a3d6201",
   "metadata": {},
   "outputs": [
    {
     "name": "stderr",
     "output_type": "stream",
     "text": [
      "d:\\code\\DeepLearningLab\\project\\.venv\\Lib\\site-packages\\torchvision\\models\\_utils.py:208: UserWarning: The parameter 'pretrained' is deprecated since 0.13 and may be removed in the future, please use 'weights' instead.\n",
      "  warnings.warn(\n",
      "d:\\code\\DeepLearningLab\\project\\.venv\\Lib\\site-packages\\torchvision\\models\\_utils.py:223: UserWarning: Arguments other than a weight enum or `None` for 'weights' are deprecated since 0.13 and may be removed in the future. The current behavior is equivalent to passing `weights=None`.\n",
      "  warnings.warn(msg)\n",
      "C:\\Users\\sttar\\AppData\\Local\\Temp\\ipykernel_25304\\2848195419.py:7: FutureWarning: You are using `torch.load` with `weights_only=False` (the current default value), which uses the default pickle module implicitly. It is possible to construct malicious pickle data which will execute arbitrary code during unpickling (See https://github.com/pytorch/pytorch/blob/main/SECURITY.md#untrusted-models for more details). In a future release, the default value for `weights_only` will be flipped to `True`. This limits the functions that could be executed during unpickling. Arbitrary objects will no longer be allowed to be loaded via this mode unless they are explicitly allowlisted by the user via `torch.serialization.add_safe_globals`. We recommend you start setting `weights_only=True` for any use case where you don't have full control of the loaded file. Please open an issue on GitHub for any issues related to this experimental feature.\n",
      "  model_t.load_state_dict(torch.load(t_save_path))\n",
      "C:\\Users\\sttar\\AppData\\Local\\Temp\\ipykernel_25304\\2848195419.py:8: FutureWarning: You are using `torch.load` with `weights_only=False` (the current default value), which uses the default pickle module implicitly. It is possible to construct malicious pickle data which will execute arbitrary code during unpickling (See https://github.com/pytorch/pytorch/blob/main/SECURITY.md#untrusted-models for more details). In a future release, the default value for `weights_only` will be flipped to `True`. This limits the functions that could be executed during unpickling. Arbitrary objects will no longer be allowed to be loaded via this mode unless they are explicitly allowlisted by the user via `torch.serialization.add_safe_globals`. We recommend you start setting `weights_only=True` for any use case where you don't have full control of the loaded file. Please open an issue on GitHub for any issues related to this experimental feature.\n",
      "  model_v.load_state_dict(torch.load(v_save_path))\n",
      "C:\\Users\\sttar\\AppData\\Local\\Temp\\ipykernel_25304\\2848195419.py:9: FutureWarning: You are using `torch.load` with `weights_only=False` (the current default value), which uses the default pickle module implicitly. It is possible to construct malicious pickle data which will execute arbitrary code during unpickling (See https://github.com/pytorch/pytorch/blob/main/SECURITY.md#untrusted-models for more details). In a future release, the default value for `weights_only` will be flipped to `True`. This limits the functions that could be executed during unpickling. Arbitrary objects will no longer be allowed to be loaded via this mode unless they are explicitly allowlisted by the user via `torch.serialization.add_safe_globals`. We recommend you start setting `weights_only=True` for any use case where you don't have full control of the loaded file. Please open an issue on GitHub for any issues related to this experimental feature.\n",
      "  model_b.load_state_dict(torch.load(b_save_path))\n"
     ]
    },
    {
     "name": "stdout",
     "output_type": "stream",
     "text": [
      "[Top-1 Accuracy] 54.4000, [Relative Accuracy] 0.8586\n"
     ]
    }
   ],
   "source": [
    "from metrics.metric import *\n",
    "\n",
    "model_t = CifarResNet18(use_norm = True);     t_save_path = \"./models/LDAM_unbalanced.pth\"\n",
    "model_v = CifarResNet18();     v_save_path = \"./models/BASE_balanced.pth\"\n",
    "model_b = CifarResNet18(use_norm = True);     b_save_path = \"./models/LDAM_balanced.pth\"\n",
    "\n",
    "model_t.load_state_dict(torch.load(t_save_path))\n",
    "model_v.load_state_dict(torch.load(v_save_path))\n",
    "model_b.load_state_dict(torch.load(b_save_path))\n",
    "model_t = model_t.to(device);   model_v = model_v.to(device);   model_b = model_b.to(device)\n",
    "\n",
    "top_1_acc = top_1_metric(model_t, test_loader, device)\n",
    "relative_acc = relative_accuracy(model_t, model_v, model_b, test_loader, device)\n",
    "print(f\"[Top-1 Accuracy] {top_1_acc:.4f}, [Relative Accuracy] {relative_acc:.4f}\")"
   ]
  },
  {
   "cell_type": "code",
   "execution_count": 13,
   "id": "2e346582",
   "metadata": {},
   "outputs": [
    {
     "name": "stdout",
     "output_type": "stream",
     "text": [
      "Files already downloaded and verified\n",
      "[Head Accuracy] 57.1176, [Mid Accuracy] 56.6061, [Tail Accuracy] 60.1818\n"
     ]
    }
   ],
   "source": [
    "(_, head_test), (_, mid_test), (_, tail_test) = get_dataloader(split=True)\n",
    "head_acc = top_1_metric(model_b, head_test, device)\n",
    "mid_acc = top_1_metric(model_b, mid_test, device)\n",
    "tail_acc = top_1_metric(model_b, tail_test, device)\n",
    "print(f\"[Head Accuracy] {head_acc:.4f}, [Mid Accuracy] {mid_acc:.4f}, [Tail Accuracy] {tail_acc:.4f}\")"
   ]
  },
  {
   "cell_type": "code",
   "execution_count": 14,
   "id": "10581648",
   "metadata": {},
   "outputs": [
    {
     "name": "stdout",
     "output_type": "stream",
     "text": [
      "57.96\n"
     ]
    }
   ],
   "source": [
    "from metrics.metric import *\n",
    "\n",
    "v_acc = top_1_metric(model_b, test_loader, device)\n",
    "print(v_acc)"
   ]
  },
  {
   "cell_type": "code",
   "execution_count": null,
   "id": "20851e51",
   "metadata": {},
   "outputs": [],
   "source": []
  }
 ],
 "metadata": {
  "kernelspec": {
   "display_name": ".venv",
   "language": "python",
   "name": "python3"
  },
  "language_info": {
   "codemirror_mode": {
    "name": "ipython",
    "version": 3
   },
   "file_extension": ".py",
   "mimetype": "text/x-python",
   "name": "python",
   "nbconvert_exporter": "python",
   "pygments_lexer": "ipython3",
   "version": "3.11.1"
  }
 },
 "nbformat": 4,
 "nbformat_minor": 5
}

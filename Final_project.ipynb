{
 "cells": [
  {
   "cell_type": "markdown",
   "id": "933fd0ad",
   "metadata": {},
   "source": [
    "# Final Project\n",
    "Tackling Long-Tail Distribution Problem"
   ]
  },
  {
   "cell_type": "markdown",
   "id": "a683ea2a",
   "metadata": {},
   "source": [
    "## 0. Base Setting"
   ]
  },
  {
   "cell_type": "code",
   "execution_count": 1,
   "id": "b2f91d7a",
   "metadata": {},
   "outputs": [],
   "source": [
    "import torch\n",
    "\n",
    "\n",
    "model_to_use = \"Three_Stage_Classifier\"\n",
    "# Base_Classifier, LDAM_Classifier, Three_stage_Classifier\n",
    "\n",
    "if model_to_use.lower() == \"three_stage_classifier\":\n",
    "    use_scl = True"
   ]
  },
  {
   "cell_type": "markdown",
   "id": "7740ec97",
   "metadata": {},
   "source": [
    "## 1. Dataset Load"
   ]
  },
  {
   "cell_type": "code",
   "execution_count": 2,
   "id": "0cf7c45e",
   "metadata": {},
   "outputs": [
    {
     "data": {
      "text/plain": [
       "<torch._C.Generator at 0x289a0db5050>"
      ]
     },
     "execution_count": 2,
     "metadata": {},
     "output_type": "execute_result"
    }
   ],
   "source": [
    "torch.manual_seed(42)"
   ]
  },
  {
   "cell_type": "code",
   "execution_count": 3,
   "id": "78f72f9e",
   "metadata": {},
   "outputs": [
    {
     "name": "stdout",
     "output_type": "stream",
     "text": [
      "Files already downloaded and verified\n"
     ]
    }
   ],
   "source": [
    "from data.dataset import get_dataloader\n",
    "\n",
    "train_loader, test_loader, cls_num_list = get_dataloader(mode = \"unbalanced\", use_scl=use_scl)\n"
   ]
  },
  {
   "cell_type": "markdown",
   "id": "4d25c9b6",
   "metadata": {},
   "source": [
    "## 2. Create Model and Set Config"
   ]
  },
  {
   "cell_type": "code",
   "execution_count": 4,
   "id": "706f73ba",
   "metadata": {},
   "outputs": [
    {
     "name": "stdout",
     "output_type": "stream",
     "text": [
      "CifarResNet18_ThreeStage(\n",
      "  (encoder): Sequential(\n",
      "    (0): Conv2d(3, 64, kernel_size=(3, 3), stride=(1, 1), padding=(1, 1), bias=False)\n",
      "    (1): BatchNorm2d(64, eps=1e-05, momentum=0.1, affine=True, track_running_stats=True)\n",
      "    (2): ReLU(inplace=True)\n",
      "    (3): Identity()\n",
      "    (4): Sequential(\n",
      "      (0): BasicBlock(\n",
      "        (conv1): Conv2d(64, 64, kernel_size=(3, 3), stride=(1, 1), padding=(1, 1), bias=False)\n",
      "        (bn1): BatchNorm2d(64, eps=1e-05, momentum=0.1, affine=True, track_running_stats=True)\n",
      "        (relu): ReLU(inplace=True)\n",
      "        (conv2): Conv2d(64, 64, kernel_size=(3, 3), stride=(1, 1), padding=(1, 1), bias=False)\n",
      "        (bn2): BatchNorm2d(64, eps=1e-05, momentum=0.1, affine=True, track_running_stats=True)\n",
      "      )\n",
      "      (1): BasicBlock(\n",
      "        (conv1): Conv2d(64, 64, kernel_size=(3, 3), stride=(1, 1), padding=(1, 1), bias=False)\n",
      "        (bn1): BatchNorm2d(64, eps=1e-05, momentum=0.1, affine=True, track_running_stats=True)\n",
      "        (relu): ReLU(inplace=True)\n",
      "        (conv2): Conv2d(64, 64, kernel_size=(3, 3), stride=(1, 1), padding=(1, 1), bias=False)\n",
      "        (bn2): BatchNorm2d(64, eps=1e-05, momentum=0.1, affine=True, track_running_stats=True)\n",
      "      )\n",
      "    )\n",
      "    (5): Sequential(\n",
      "      (0): BasicBlock(\n",
      "        (conv1): Conv2d(64, 128, kernel_size=(3, 3), stride=(2, 2), padding=(1, 1), bias=False)\n",
      "        (bn1): BatchNorm2d(128, eps=1e-05, momentum=0.1, affine=True, track_running_stats=True)\n",
      "        (relu): ReLU(inplace=True)\n",
      "        (conv2): Conv2d(128, 128, kernel_size=(3, 3), stride=(1, 1), padding=(1, 1), bias=False)\n",
      "        (bn2): BatchNorm2d(128, eps=1e-05, momentum=0.1, affine=True, track_running_stats=True)\n",
      "        (downsample): Sequential(\n",
      "          (0): Conv2d(64, 128, kernel_size=(1, 1), stride=(2, 2), bias=False)\n",
      "          (1): BatchNorm2d(128, eps=1e-05, momentum=0.1, affine=True, track_running_stats=True)\n",
      "        )\n",
      "      )\n",
      "      (1): BasicBlock(\n",
      "        (conv1): Conv2d(128, 128, kernel_size=(3, 3), stride=(1, 1), padding=(1, 1), bias=False)\n",
      "        (bn1): BatchNorm2d(128, eps=1e-05, momentum=0.1, affine=True, track_running_stats=True)\n",
      "        (relu): ReLU(inplace=True)\n",
      "        (conv2): Conv2d(128, 128, kernel_size=(3, 3), stride=(1, 1), padding=(1, 1), bias=False)\n",
      "        (bn2): BatchNorm2d(128, eps=1e-05, momentum=0.1, affine=True, track_running_stats=True)\n",
      "      )\n",
      "    )\n",
      "    (6): Sequential(\n",
      "      (0): BasicBlock(\n",
      "        (conv1): Conv2d(128, 256, kernel_size=(3, 3), stride=(2, 2), padding=(1, 1), bias=False)\n",
      "        (bn1): BatchNorm2d(256, eps=1e-05, momentum=0.1, affine=True, track_running_stats=True)\n",
      "        (relu): ReLU(inplace=True)\n",
      "        (conv2): Conv2d(256, 256, kernel_size=(3, 3), stride=(1, 1), padding=(1, 1), bias=False)\n",
      "        (bn2): BatchNorm2d(256, eps=1e-05, momentum=0.1, affine=True, track_running_stats=True)\n",
      "        (downsample): Sequential(\n",
      "          (0): Conv2d(128, 256, kernel_size=(1, 1), stride=(2, 2), bias=False)\n",
      "          (1): BatchNorm2d(256, eps=1e-05, momentum=0.1, affine=True, track_running_stats=True)\n",
      "        )\n",
      "      )\n",
      "      (1): BasicBlock(\n",
      "        (conv1): Conv2d(256, 256, kernel_size=(3, 3), stride=(1, 1), padding=(1, 1), bias=False)\n",
      "        (bn1): BatchNorm2d(256, eps=1e-05, momentum=0.1, affine=True, track_running_stats=True)\n",
      "        (relu): ReLU(inplace=True)\n",
      "        (conv2): Conv2d(256, 256, kernel_size=(3, 3), stride=(1, 1), padding=(1, 1), bias=False)\n",
      "        (bn2): BatchNorm2d(256, eps=1e-05, momentum=0.1, affine=True, track_running_stats=True)\n",
      "      )\n",
      "    )\n",
      "    (7): Sequential(\n",
      "      (0): BasicBlock(\n",
      "        (conv1): Conv2d(256, 512, kernel_size=(3, 3), stride=(2, 2), padding=(1, 1), bias=False)\n",
      "        (bn1): BatchNorm2d(512, eps=1e-05, momentum=0.1, affine=True, track_running_stats=True)\n",
      "        (relu): ReLU(inplace=True)\n",
      "        (conv2): Conv2d(512, 512, kernel_size=(3, 3), stride=(1, 1), padding=(1, 1), bias=False)\n",
      "        (bn2): BatchNorm2d(512, eps=1e-05, momentum=0.1, affine=True, track_running_stats=True)\n",
      "        (downsample): Sequential(\n",
      "          (0): Conv2d(256, 512, kernel_size=(1, 1), stride=(2, 2), bias=False)\n",
      "          (1): BatchNorm2d(512, eps=1e-05, momentum=0.1, affine=True, track_running_stats=True)\n",
      "        )\n",
      "      )\n",
      "      (1): BasicBlock(\n",
      "        (conv1): Conv2d(512, 512, kernel_size=(3, 3), stride=(1, 1), padding=(1, 1), bias=False)\n",
      "        (bn1): BatchNorm2d(512, eps=1e-05, momentum=0.1, affine=True, track_running_stats=True)\n",
      "        (relu): ReLU(inplace=True)\n",
      "        (conv2): Conv2d(512, 512, kernel_size=(3, 3), stride=(1, 1), padding=(1, 1), bias=False)\n",
      "        (bn2): BatchNorm2d(512, eps=1e-05, momentum=0.1, affine=True, track_running_stats=True)\n",
      "      )\n",
      "    )\n",
      "    (8): AdaptiveAvgPool2d(output_size=(1, 1))\n",
      "  )\n",
      "  (projection_head): Sequential(\n",
      "    (0): Linear(in_features=512, out_features=128, bias=True)\n",
      "    (1): ReLU(inplace=True)\n",
      "    (2): Linear(in_features=128, out_features=128, bias=True)\n",
      "  )\n",
      "  (ldam_classifier): NormalizedLinear()\n",
      "  (cse_classifier): Linear(in_features=512, out_features=100, bias=True)\n",
      ")\n",
      "Total parameters: 11353508\n"
     ]
    },
    {
     "name": "stderr",
     "output_type": "stream",
     "text": [
      "d:\\code\\DeepLearningLab\\project\\.venv\\Lib\\site-packages\\torchvision\\models\\_utils.py:208: UserWarning: The parameter 'pretrained' is deprecated since 0.13 and may be removed in the future, please use 'weights' instead.\n",
      "  warnings.warn(\n",
      "d:\\code\\DeepLearningLab\\project\\.venv\\Lib\\site-packages\\torchvision\\models\\_utils.py:223: UserWarning: Arguments other than a weight enum or `None` for 'weights' are deprecated since 0.13 and may be removed in the future. The current behavior is equivalent to passing `weights=None`.\n",
      "  warnings.warn(msg)\n"
     ]
    }
   ],
   "source": [
    "from models.model import *\n",
    "from configs._config_ import *\n",
    "\n",
    "if model_to_use.lower() == \"base_classifier\":\n",
    "    model = CifarResNet18(use_norm=False)\n",
    "    config = create_config(model)\n",
    "elif model_to_use.lower() == \"ldam_classifier\":\n",
    "    model = CifarResNet18(use_norm=True)\n",
    "    config = create_config(model, cls_num_list)\n",
    "elif model_to_use.lower() == \"three_stage_classifier\":\n",
    "    model = CifarResNet18_ThreeStage(cls_num_list=cls_num_list)\n",
    "\n",
    "print(model)\n",
    "total_params = sum(p.numel() for p in model.parameters())\n",
    "print(f\"Total parameters: {total_params}\")"
   ]
  },
  {
   "cell_type": "markdown",
   "id": "74184b5f",
   "metadata": {},
   "source": [
    "## 3. Train"
   ]
  },
  {
   "cell_type": "code",
   "execution_count": 5,
   "id": "04ad1e13",
   "metadata": {},
   "outputs": [
    {
     "name": "stdout",
     "output_type": "stream",
     "text": [
      "cuda:0\n"
     ]
    }
   ],
   "source": [
    "device = torch.device(\"cuda:0\" if torch.cuda.is_available() else \"cpu\")\n",
    "model = model.to(device)\n",
    "\n",
    "print(device)"
   ]
  },
  {
   "cell_type": "code",
   "execution_count": 7,
   "id": "4439423d",
   "metadata": {},
   "outputs": [
    {
     "name": "stdout",
     "output_type": "stream",
     "text": [
      "=== Loading Stage 2 model from ./models_path/stage2_LDAM.pth ===\n",
      "Stage 2 model loaded successfully!\n",
      "\n",
      " === Stage3 Training Start ===\n"
     ]
    },
    {
     "name": "stderr",
     "output_type": "stream",
     "text": [
      "d:\\code\\DeepLearningLab\\project\\DeepLab_final_project\\trainer\\train.py:107: FutureWarning: You are using `torch.load` with `weights_only=False` (the current default value), which uses the default pickle module implicitly. It is possible to construct malicious pickle data which will execute arbitrary code during unpickling (See https://github.com/pytorch/pytorch/blob/main/SECURITY.md#untrusted-models for more details). In a future release, the default value for `weights_only` will be flipped to `True`. This limits the functions that could be executed during unpickling. Arbitrary objects will no longer be allowed to be loaded via this mode unless they are explicitly allowlisted by the user via `torch.serialization.add_safe_globals`. We recommend you start setting `weights_only=True` for any use case where you don't have full control of the loaded file. Please open an issue on GitHub for any issues related to this experimental feature.\n",
      "  model.load_state_dict(torch.load(load_stage2_path))\n"
     ]
    },
    {
     "name": "stdout",
     "output_type": "stream",
     "text": [
      "[Epoch 1/60] Train Loss: 4.0828 | Test Loss: 3.8574\n",
      "[Best Model Saved!] Stage 3\n",
      "[Epoch 2/60] Train Loss: 3.1937 | Test Loss: 3.4176\n",
      "[Best Model Saved!] Stage 3\n",
      "[Epoch 3/60] Train Loss: 2.7200 | Test Loss: 3.1601\n",
      "[Best Model Saved!] Stage 3\n",
      "[Epoch 4/60] Train Loss: 2.4426 | Test Loss: 2.9861\n",
      "[Best Model Saved!] Stage 3\n",
      "[Epoch 5/60] Train Loss: 2.2624 | Test Loss: 2.8397\n",
      "[Best Model Saved!] Stage 3\n",
      "[Epoch 6/60] Train Loss: 2.1352 | Test Loss: 2.7445\n",
      "[Best Model Saved!] Stage 3\n",
      "[Epoch 7/60] Train Loss: 2.0334 | Test Loss: 2.6686\n",
      "[Best Model Saved!] Stage 3\n",
      "[Epoch 8/60] Train Loss: 1.9519 | Test Loss: 2.5935\n",
      "[Best Model Saved!] Stage 3\n",
      "[Epoch 9/60] Train Loss: 1.8873 | Test Loss: 2.5474\n",
      "[Best Model Saved!] Stage 3\n",
      "[Epoch 10/60] Train Loss: 1.8373 | Test Loss: 2.4947\n",
      "[Best Model Saved!] Stage 3\n",
      "[Epoch 11/60] Train Loss: 1.7893 | Test Loss: 2.4485\n",
      "[Best Model Saved!] Stage 3\n",
      "[Epoch 12/60] Train Loss: 1.7581 | Test Loss: 2.4172\n",
      "[Best Model Saved!] Stage 3\n",
      "[Epoch 13/60] Train Loss: 1.7245 | Test Loss: 2.3717\n",
      "[Best Model Saved!] Stage 3\n",
      "[Epoch 14/60] Train Loss: 1.6958 | Test Loss: 2.3609\n",
      "[Best Model Saved!] Stage 3\n",
      "[Epoch 15/60] Train Loss: 1.6724 | Test Loss: 2.3288\n",
      "[Best Model Saved!] Stage 3\n",
      "[Epoch 16/60] Train Loss: 1.6507 | Test Loss: 2.3109\n",
      "[Best Model Saved!] Stage 3\n",
      "[Epoch 17/60] Train Loss: 1.6244 | Test Loss: 2.2894\n",
      "[Best Model Saved!] Stage 3\n",
      "[Epoch 18/60] Train Loss: 1.6097 | Test Loss: 2.2709\n",
      "[Best Model Saved!] Stage 3\n",
      "[Epoch 19/60] Train Loss: 1.5935 | Test Loss: 2.2413\n",
      "[Best Model Saved!] Stage 3\n",
      "[Epoch 20/60] Train Loss: 1.5858 | Test Loss: 2.2191\n",
      "[Best Model Saved!] Stage 3\n",
      "[Epoch 21/60] Train Loss: 1.5718 | Test Loss: 2.2189\n",
      "[Best Model Saved!] Stage 3\n",
      "[Epoch 22/60] Train Loss: 1.5600 | Test Loss: 2.2027\n",
      "[Best Model Saved!] Stage 3\n",
      "[Epoch 23/60] Train Loss: 1.5546 | Test Loss: 2.1762\n",
      "[Best Model Saved!] Stage 3\n",
      "[Epoch 24/60] Train Loss: 1.5387 | Test Loss: 2.1827\n",
      "[Epoch 25/60] Train Loss: 1.5254 | Test Loss: 2.1702\n",
      "[Best Model Saved!] Stage 3\n",
      "[Epoch 26/60] Train Loss: 1.5261 | Test Loss: 2.1575\n",
      "[Best Model Saved!] Stage 3\n",
      "[Epoch 27/60] Train Loss: 1.5137 | Test Loss: 2.1428\n",
      "[Best Model Saved!] Stage 3\n",
      "[Epoch 28/60] Train Loss: 1.5051 | Test Loss: 2.1336\n",
      "[Best Model Saved!] Stage 3\n",
      "[Epoch 29/60] Train Loss: 1.4963 | Test Loss: 2.1426\n",
      "[Epoch 30/60] Train Loss: 1.4868 | Test Loss: 2.1293\n",
      "[Best Model Saved!] Stage 3\n",
      "[Epoch 31/60] Train Loss: 1.4970 | Test Loss: 2.1106\n",
      "[Best Model Saved!] Stage 3\n",
      "[Epoch 32/60] Train Loss: 1.4850 | Test Loss: 2.1094\n",
      "[Best Model Saved!] Stage 3\n",
      "[Epoch 33/60] Train Loss: 1.4782 | Test Loss: 2.1142\n",
      "[Epoch 34/60] Train Loss: 1.4689 | Test Loss: 2.1121\n",
      "[Epoch 35/60] Train Loss: 1.4644 | Test Loss: 2.0951\n",
      "[Best Model Saved!] Stage 3\n",
      "[Epoch 36/60] Train Loss: 1.4563 | Test Loss: 2.0911\n",
      "[Best Model Saved!] Stage 3\n",
      "[Epoch 37/60] Train Loss: 1.4557 | Test Loss: 2.0891\n",
      "[Best Model Saved!] Stage 3\n",
      "[Epoch 38/60] Train Loss: 1.4524 | Test Loss: 2.0857\n",
      "[Best Model Saved!] Stage 3\n",
      "[Epoch 39/60] Train Loss: 1.4469 | Test Loss: 2.0868\n",
      "[Epoch 40/60] Train Loss: 1.4598 | Test Loss: 2.0855\n",
      "[Best Model Saved!] Stage 3\n",
      "[Epoch 41/60] Train Loss: 1.4361 | Test Loss: 2.0782\n",
      "[Best Model Saved!] Stage 3\n",
      "[Epoch 42/60] Train Loss: 1.4517 | Test Loss: 2.0779\n",
      "[Best Model Saved!] Stage 3\n",
      "[Epoch 43/60] Train Loss: 1.4449 | Test Loss: 2.0637\n",
      "[Best Model Saved!] Stage 3\n",
      "[Epoch 44/60] Train Loss: 1.4322 | Test Loss: 2.0746\n",
      "[Epoch 45/60] Train Loss: 1.4505 | Test Loss: 2.0618\n",
      "[Best Model Saved!] Stage 3\n",
      "[Epoch 46/60] Train Loss: 1.4357 | Test Loss: 2.0729\n",
      "[Epoch 47/60] Train Loss: 1.4242 | Test Loss: 2.0702\n",
      "[Epoch 48/60] Train Loss: 1.4314 | Test Loss: 2.0607\n",
      "[Best Model Saved!] Stage 3\n",
      "[Epoch 49/60] Train Loss: 1.4269 | Test Loss: 2.0585\n",
      "[Best Model Saved!] Stage 3\n",
      "[Epoch 50/60] Train Loss: 1.4251 | Test Loss: 2.0607\n",
      "[Epoch 51/60] Train Loss: 1.4236 | Test Loss: 2.0510\n",
      "[Best Model Saved!] Stage 3\n",
      "[Epoch 52/60] Train Loss: 1.4211 | Test Loss: 2.0627\n",
      "[Epoch 53/60] Train Loss: 1.4079 | Test Loss: 2.0643\n",
      "[Epoch 54/60] Train Loss: 1.4085 | Test Loss: 2.0605\n",
      "[Epoch 55/60] Train Loss: 1.4102 | Test Loss: 2.0478\n",
      "[Best Model Saved!] Stage 3\n",
      "[Epoch 56/60] Train Loss: 1.4193 | Test Loss: 2.0597\n",
      "[Epoch 57/60] Train Loss: 1.4118 | Test Loss: 2.0551\n",
      "[Epoch 58/60] Train Loss: 1.4104 | Test Loss: 2.0500\n",
      "[Epoch 59/60] Train Loss: 1.4016 | Test Loss: 2.0597\n",
      "[Epoch 60/60] Train Loss: 1.3961 | Test Loss: 2.0675\n",
      "Stage 3 completed. Model saved to ./models_path/stage3_CSE.pth\n",
      "Stage 3 Accuracy: 0.5724\n"
     ]
    }
   ],
   "source": [
    "resume_training = True  # 이어서 학습할지 여부\n",
    "start_from_stage = 3  # 몇 번 stage부터 시작할지 (1, 2, 3)\n",
    "\n",
    "stage1_model_path = \"./models_path/stage1_SCL_only.pth\"\n",
    "stage2_model_path = \"./models_path/stage2_LDAM.pth\"\n",
    "\n",
    "# 학습 실행\n",
    "from trainer.train import myTrainer, three_stage_trainer\n",
    "\n",
    "train_losses = list()\n",
    "test_losses = list()\n",
    "\n",
    "if model_to_use.lower() == \"three_stage_classifier\":\n",
    "    if resume_training:\n",
    "        # 이어서 학습\n",
    "        if start_from_stage == 2:\n",
    "            train_losses, test_losses = three_stage_trainer(\n",
    "                model=model,\n",
    "                train_loader=train_loader,\n",
    "                test_loader=test_loader,\n",
    "                device=device,\n",
    "                cls_num_list=cls_num_list,\n",
    "                start_stage=2,\n",
    "                load_stage1_path=stage1_model_path\n",
    "            )\n",
    "        elif start_from_stage == 3:\n",
    "            train_losses, test_losses = three_stage_trainer(\n",
    "                model=model,\n",
    "                train_loader=train_loader,\n",
    "                test_loader=test_loader,\n",
    "                device=device,\n",
    "                cls_num_list=cls_num_list,\n",
    "                start_stage=3,\n",
    "                load_stage2_path=stage2_model_path\n",
    "            )\n",
    "    else:\n",
    "        train_losses, test_losses = three_stage_trainer(\n",
    "            model=model,\n",
    "            train_loader=train_loader,\n",
    "            test_loader=test_loader,\n",
    "            device=device,\n",
    "            cls_num_list=cls_num_list\n",
    "        )\n",
    "else:\n",
    "    train_losses, test_losses = myTrainer(\n",
    "        model=model,\n",
    "        train_loader=train_loader,\n",
    "        test_loader=test_loader,\n",
    "        device=device,\n",
    "        config=config\n",
    "    )"
   ]
  },
  {
   "cell_type": "code",
   "execution_count": 9,
   "id": "569a2cd0",
   "metadata": {},
   "outputs": [
    {
     "name": "stdout",
     "output_type": "stream",
     "text": [
      "Intra: 0.022, Inter: 0.174, Inter/Intra: 7.73\n"
     ]
    }
   ],
   "source": [
    "import numpy as np\n",
    "\n",
    "def compute_intra_class_variance(features, labels, num_classes=100):\n",
    "        variances = []\n",
    "        for c in range(num_classes):\n",
    "            class_mask = (labels == c)\n",
    "            if class_mask.sum() > 1:\n",
    "                class_features = features[class_mask]\n",
    "                class_center = class_features.mean(dim=0)\n",
    "                variance = ((class_features - class_center) ** 2).sum(dim=1).mean()\n",
    "                variances.append(variance.item())\n",
    "        return np.mean(variances)\n",
    "\n",
    "def compute_inter_class_distance(features, labels, num_classes=100):\n",
    "    class_centers = []\n",
    "    for c in range(num_classes):\n",
    "        mask = (labels == c)\n",
    "        if mask.sum() > 0:\n",
    "            class_feat = features[mask]\n",
    "            center = class_feat.mean(dim=0)\n",
    "            class_centers.append(center)\n",
    "    class_centers = torch.stack(class_centers, dim=0)  # (C, D)\n",
    "    # 모든 클래스 중심 간 거리 평균\n",
    "    return torch.pdist(class_centers, p=2).mean().item()\n",
    "\n",
    "with torch.no_grad():\n",
    "    imgs, lbls = next(iter(train_loader))\n",
    "    imgs = imgs[0].cuda()  # SupCon이면 [B, 2, C, H, W] 형태 → 첫 view 사용\n",
    "    labels = lbls.cuda()\n",
    "\n",
    "    f = F.normalize(model.projection_head(model.encoder(imgs).flatten(1)), dim=1)\n",
    "\n",
    "    intra = compute_intra_class_variance(f, labels, num_classes=100)\n",
    "    inter = compute_inter_class_distance(f, labels, num_classes=100)\n",
    "\n",
    "    print(f\"Intra: {intra:.3f}, Inter: {inter:.3f}, Inter/Intra: {inter / (intra + 1e-8):.2f}\")"
   ]
  },
  {
   "cell_type": "code",
   "execution_count": null,
   "id": "3bdadea5",
   "metadata": {},
   "outputs": [
    {
     "data": {
      "image/png": "[encoded data removed]",
      "text/plain": [
       "<Figure size 640x480 with 1 Axes>"
      ]
     },
     "metadata": {},
     "output_type": "display_data"
    }
   ],
   "source": [
    "import matplotlib.pyplot as plt\n",
    "\n",
    "X = [i+1 for i in range(len(train_losses))]\n",
    "\n",
    "plt.plot(X, train_losses, color=\"blue\", label = \"train_losses\")\n",
    "plt.plot(X, test_losses, color=\"orange\", label = \"test_losses\")\n",
    "\n",
    "plt.xlabel(\"Epochs\")\n",
    "plt.ylabel(\"Losses\")\n",
    "plt.legend(loc=\"upper left\")\n",
    "plt.title(\"Train/Test Losses\")\n",
    "\n",
    "plt.show()"
   ]
  },
  {
   "cell_type": "code",
   "execution_count": 8,
   "id": "9020594d",
   "metadata": {},
   "outputs": [
    {
     "name": "stderr",
     "output_type": "stream",
     "text": [
      "C:\\Users\\sttar\\AppData\\Local\\Temp\\ipykernel_30312\\1227285252.py:6: FutureWarning: You are using `torch.load` with `weights_only=False` (the current default value), which uses the default pickle module implicitly. It is possible to construct malicious pickle data which will execute arbitrary code during unpickling (See https://github.com/pytorch/pytorch/blob/main/SECURITY.md#untrusted-models for more details). In a future release, the default value for `weights_only` will be flipped to `True`. This limits the functions that could be executed during unpickling. Arbitrary objects will no longer be allowed to be loaded via this mode unless they are explicitly allowlisted by the user via `torch.serialization.add_safe_globals`. We recommend you start setting `weights_only=True` for any use case where you don't have full control of the loaded file. Please open an issue on GitHub for any issues related to this experimental feature.\n",
      "  final_model.load_state_dict(torch.load(\"./models_path/stage3_CSE.pth\"))\n"
     ]
    },
    {
     "name": "stdout",
     "output_type": "stream",
     "text": [
      "=== 전체 테스트셋 평가 ===\n",
      "전체 모델 정확도: 60.76%\n",
      "LDAM 분류기 정확도: 62.06%\n",
      "CSE 분류기 정확도: 57.42%\n",
      "\n",
      "=== Head/Mid/Tail 성능 평가 ===\n",
      "Files already downloaded and verified\n",
      "[Head Accuracy] 74.41, [Mid Accuracy] 64.55, [Tail Accuracy] 42.91\n"
     ]
    }
   ],
   "source": [
    "# Final_project.ipynb에 추가할 셀\n",
    "from metrics.metric import evaluate_stage3_model, top_1_metric\n",
    "\n",
    "# Stage3 최종 모델 로드\n",
    "final_model = CifarResNet18_ThreeStage(cls_num_list=cls_num_list)\n",
    "final_model.load_state_dict(torch.load(\"./models_path/stage3_CSE.pth\"))\n",
    "final_model = final_model.to(device)\n",
    "\n",
    "# 1. 전체 모델 및 개별 분류기 성능 평가\n",
    "print(\"=== 전체 테스트셋 평가 ===\")\n",
    "overall_acc, ldam_acc, cse_acc = evaluate_stage3_model(final_model, test_loader, device)\n",
    "\n",
    "# 2. Head/Mid/Tail 각 그룹별 성능 평가\n",
    "print(\"\\n=== Head/Mid/Tail 성능 평가 ===\")\n",
    "(_, head_test), (_, mid_test), (_, tail_test) = get_dataloader(split=True)\n",
    "\n",
    "# 기존 함수 활용하되 use_scl=False로 설정\n",
    "head_acc = top_1_metric(final_model, head_test, device, use_scl=use_scl)\n",
    "mid_acc = top_1_metric(final_model, mid_test, device, use_scl=use_scl)\n",
    "tail_acc = top_1_metric(final_model, tail_test, device, use_scl=use_scl)\n",
    "print(f\"[Head Accuracy] {head_acc:.2f}, [Mid Accuracy] {mid_acc:.2f}, [Tail Accuracy] {tail_acc:.2f}\")"
   ]
  },
  {
   "cell_type": "code",
   "execution_count": 7,
   "id": "6a3d6201",
   "metadata": {},
   "outputs": [
    {
     "name": "stderr",
     "output_type": "stream",
     "text": [
      "C:\\Users\\sttar\\AppData\\Local\\Temp\\ipykernel_24812\\260165759.py:7: FutureWarning: You are using `torch.load` with `weights_only=False` (the current default value), which uses the default pickle module implicitly. It is possible to construct malicious pickle data which will execute arbitrary code during unpickling (See https://github.com/pytorch/pytorch/blob/main/SECURITY.md#untrusted-models for more details). In a future release, the default value for `weights_only` will be flipped to `True`. This limits the functions that could be executed during unpickling. Arbitrary objects will no longer be allowed to be loaded via this mode unless they are explicitly allowlisted by the user via `torch.serialization.add_safe_globals`. We recommend you start setting `weights_only=True` for any use case where you don't have full control of the loaded file. Please open an issue on GitHub for any issues related to this experimental feature.\n",
      "  model_t.load_state_dict(torch.load(t_save_path))\n"
     ]
    },
    {
     "name": "stdout",
     "output_type": "stream",
     "text": [
      "Files already downloaded and verified\n",
      "62.38\n"
     ]
    }
   ],
   "source": [
    "from metrics.metric import *\n",
    "\n",
    "model_t = CifarResNet18_ThreeStage(cls_num_list=cls_num_list);                      t_save_path = \"./models_path/stage3_CSE.pth\"\n",
    "# model_v = CifarResNet18();                      v_save_path = \"./models/Base_balanced.pth\"\n",
    "# model_b = CifarResNet18();                       b_save_path = \"./models/Base_balanced.pth\"\n",
    "\n",
    "model_t.load_state_dict(torch.load(t_save_path))\n",
    "# model_v.load_state_dict(torch.load(v_save_path))\n",
    "# model_b.load_state_dict(torch.load(b_save_path))\n",
    "model_t = model_t.to(device);   \n",
    "# model_v = model_v.to(device);   model_b = model_b.to(device)\n",
    "\n",
    "_, test_loader_eval, _ = get_dataloader(mode=\"unbalanced\", use_scl=False)\n",
    "\n",
    "top_1_acc = top_1_metric(model_t, test_loader_eval, device, use_scl)\n",
    "# relative_acc = relative_accuracy(model_t, model_v, model_b, test_loader, device)\n",
    "# print(f\"[Top-1 Accuracy] {top_1_acc:.4f}, [Relative Accuracy] {relative_acc:.4f}\")\n",
    "print(top_1_acc)"
   ]
  },
  {
   "cell_type": "code",
   "execution_count": 8,
   "id": "2e346582",
   "metadata": {},
   "outputs": [
    {
     "name": "stdout",
     "output_type": "stream",
     "text": [
      "Files already downloaded and verified\n",
      "[Head Accuracy] 73.4118, [Mid Accuracy] 65.8182, [Tail Accuracy] 47.5758\n"
     ]
    }
   ],
   "source": [
    "from metrics.metric import *\n",
    "\n",
    "(_, head_test), (_, mid_test), (_, tail_test) = get_dataloader(split=True)\n",
    "head_acc = top_1_metric(model_t, head_test, device, use_scl)\n",
    "mid_acc = top_1_metric(model_t, mid_test, device, use_scl)\n",
    "tail_acc = top_1_metric(model_t, tail_test, device, use_scl)\n",
    "print(f\"[Head Accuracy] {head_acc:.4f}, [Mid Accuracy] {mid_acc:.4f}, [Tail Accuracy] {tail_acc:.4f}\")"
   ]
  },
  {
   "cell_type": "code",
   "execution_count": 15,
   "id": "10581648",
   "metadata": {},
   "outputs": [
    {
     "ename": "TypeError",
     "evalue": "top_1_metric() missing 1 required positional argument: 'use_scl'",
     "output_type": "error",
     "traceback": [
      "\u001b[31m---------------------------------------------------------------------------\u001b[39m",
      "\u001b[31mTypeError\u001b[39m                                 Traceback (most recent call last)",
      "\u001b[36mCell\u001b[39m\u001b[36m \u001b[39m\u001b[32mIn[15]\u001b[39m\u001b[32m, line 3\u001b[39m\n\u001b[32m      1\u001b[39m \u001b[38;5;28;01mfrom\u001b[39;00m\u001b[38;5;250m \u001b[39m\u001b[34;01mmetrics\u001b[39;00m\u001b[34;01m.\u001b[39;00m\u001b[34;01mmetric\u001b[39;00m\u001b[38;5;250m \u001b[39m\u001b[38;5;28;01mimport\u001b[39;00m *\n\u001b[32m----> \u001b[39m\u001b[32m3\u001b[39m v_acc = \u001b[43mtop_1_metric\u001b[49m\u001b[43m(\u001b[49m\u001b[43mmodel_t\u001b[49m\u001b[43m,\u001b[49m\u001b[43m \u001b[49m\u001b[43mtest_loader\u001b[49m\u001b[43m,\u001b[49m\u001b[43m \u001b[49m\u001b[43mdevice\u001b[49m\u001b[43m)\u001b[49m\n\u001b[32m      4\u001b[39m \u001b[38;5;28mprint\u001b[39m(v_acc)\n",
      "\u001b[31mTypeError\u001b[39m: top_1_metric() missing 1 required positional argument: 'use_scl'"
     ]
    }
   ],
   "source": [
    "from metrics.metric import *\n",
    "\n",
    "v_acc = top_1_metric(model_t, test_loader, device)\n",
    "print(v_acc)"
   ]
  },
  {
   "cell_type": "code",
   "execution_count": null,
   "id": "0e623850",
   "metadata": {},
   "outputs": [],
   "source": []
  }
 ],
 "metadata": {
  "kernelspec": {
   "display_name": ".venv",
   "language": "python",
   "name": "python3"
  },
  "language_info": {
   "codemirror_mode": {
    "name": "ipython",
    "version": 3
   },
   "file_extension": ".py",
   "mimetype": "text/x-python",
   "name": "python",
   "nbconvert_exporter": "python",
   "pygments_lexer": "ipython3",
   "version": "3.11.1"
  }
 },
 "nbformat": 4,
 "nbformat_minor": 5
}
